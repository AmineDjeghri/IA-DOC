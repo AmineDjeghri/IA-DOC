{
 "cells": [
  {
   "cell_type": "markdown",
   "metadata": {
    "colab_type": "text",
    "id": "ECnXIgT0u-GM"
   },
   "source": [
    "#  C.N.N. Reconnaissances d'émotions \n"
   ]
  },
  {
   "cell_type": "markdown",
   "metadata": {
    "colab_type": "text",
    "id": "KGS9wdA9u-GQ"
   },
   "source": [
    "Lien du tutoriel: https://www.freecodecamp.org/news/facial-emotion-recognition-develop-a-c-n-n-and-break-into-kaggle-top-10-f618c024faa7/\n",
    "\n",
    "Dataset: fer2013 https://kaggle.com/deadskull7/fer2013"
   ]
  },
  {
   "cell_type": "markdown",
   "metadata": {
    "colab_type": "text",
    "id": "Slm411Xku-GT"
   },
   "source": [
    "Si vous voulez travailler comme moi sur google colab voici un tutoriel\n",
    "\n",
    "#### tutoriel Google Colab:  https://hackernoon.com/begin-your-deep-learning-project-for-free-free-gpu-processing-free-storage-free-easy-upload-b4dba18abebc\n"
   ]
  },
  {
   "cell_type": "code",
   "execution_count": 0,
   "metadata": {
    "colab": {
     "base_uri": "https://localhost:8080/",
     "height": 122
    },
    "colab_type": "code",
    "id": "kHQfe-pWu-GU",
    "outputId": "738a15b6-7fc8-499b-d7d0-c66a4c78c143"
   },
   "outputs": [
    {
     "name": "stdout",
     "output_type": "stream",
     "text": [
      "Go to this URL in a browser: https://accounts.google.com/o/oauth2/auth?client_id=947318989803-6bn6qk8qdgf4n4g3pfee6491hc0brc4i.apps.googleusercontent.com&redirect_uri=urn%3Aietf%3Awg%3Aoauth%3A2.0%3Aoob&scope=email%20https%3A%2F%2Fwww.googleapis.com%2Fauth%2Fdocs.test%20https%3A%2F%2Fwww.googleapis.com%2Fauth%2Fdrive%20https%3A%2F%2Fwww.googleapis.com%2Fauth%2Fdrive.photos.readonly%20https%3A%2F%2Fwww.googleapis.com%2Fauth%2Fpeopleapi.readonly&response_type=code\n",
      "\n",
      "Enter your authorization code:\n",
      "··········\n",
      "Mounted at /content/gdrive\n"
     ]
    }
   ],
   "source": [
    "#Connect google Drive.\n",
    "from google.colab import drive\n",
    "drive.mount('/content/gdrive')"
   ]
  },
  {
   "cell_type": "code",
   "execution_count": 1,
   "metadata": {
    "colab": {},
    "colab_type": "code",
    "id": "rl9-al3-u-Gb"
   },
   "outputs": [
    {
     "name": "stderr",
     "output_type": "stream",
     "text": [
      "Using TensorFlow backend.\n"
     ]
    }
   ],
   "source": [
    "#Import Libraries\n",
    "import matplotlib.pyplot as plt\n",
    "\n",
    "import numpy as np\n",
    "from keras.utils import to_categorical\n",
    "from sklearn.model_selection import train_test_split\n",
    "\n",
    "from keras.models import Sequential #Initialise our neural network model as a sequential network\n",
    "from keras.layers import Conv2D #Convolution operation\n",
    "from keras.layers.normalization import BatchNormalization\n",
    "from keras.regularizers import l2\n",
    "from keras.layers import Activation#Applies activation function\n",
    "from keras.layers import Dropout#Prevents overfitting by randomly converting few outputs to zero\n",
    "from keras.layers import MaxPooling2D # Maxpooling function\n",
    "from keras.layers import Flatten # Converting 2D arrays into a 1D linear vector\n",
    "from keras.layers import Dense # Regular fully connected neural network\n",
    "from keras import optimizers\n",
    "from keras.callbacks import ReduceLROnPlateau, EarlyStopping, TensorBoard, ModelCheckpoint\n",
    "from sklearn.metrics import accuracy_score"
   ]
  },
  {
   "cell_type": "markdown",
   "metadata": {
    "colab_type": "text",
    "id": "qfKBVuiZu-Gp"
   },
   "source": [
    "#### Apercu d'un exemple"
   ]
  },
  {
   "cell_type": "code",
   "execution_count": 2,
   "metadata": {
    "colab": {
     "base_uri": "https://localhost:8080/",
     "height": 303
    },
    "colab_type": "code",
    "id": "ff9cIKQ5u-Gr",
    "outputId": "4370cefb-a82e-4431-9216-ac0e66ec9df3"
   },
   "outputs": [
    {
     "name": "stdout",
     "output_type": "stream",
     "text": [
      "(48, 48)\n"
     ]
    },
    {
     "data": {
      "text/plain": [
       "<matplotlib.image.AxesImage at 0x1fe3f8cc0b8>"
      ]
     },
     "execution_count": 2,
     "metadata": {},
     "output_type": "execute_result"
    },
    {
     "data": {
      "image/png": "[encoded data removed]",
      "text/plain": [
       "<Figure size 432x288 with 1 Axes>"
      ]
     },
     "metadata": {
      "needs_background": "light"
     },
     "output_type": "display_data"
    }
   ],
   "source": [
    "dataset_path=\"C:\\\\Users\\Fatah\\Downloads\\IA Doc\\Learn 3(need to update it from drive)\\\\fer2013.csv\"\n",
    "#dataset_path=\"/content/gdrive/My Drive/Google Colab/Emotions Recognizer/fer2013.csv\"\n",
    "\n",
    "with open(dataset_path, 'r') as file:\n",
    "        for line_no, line in enumerate(file.readlines()):\n",
    "            if 0< line_no <=35887:\n",
    "                curr_class, line, set_type = line.split(',')  \n",
    "                #Creating a list out of the string then converting it into a 2-Dimensional numpy array.\n",
    "                image_data=np.asarray([int(x) for x in line.split()]).reshape(48,48)\n",
    "            \n",
    "\n",
    "#plot last image in the dataset \n",
    "print(image_data.shape)\n",
    "plt.imshow(image_data,cmap='gray')   "
   ]
  },
  {
   "cell_type": "markdown",
   "metadata": {
    "colab_type": "text",
    "id": "nMDTN3AKO1yN"
   },
   "source": [
    "### Prétraitements"
   ]
  },
  {
   "cell_type": "markdown",
   "metadata": {
    "colab_type": "text",
    "id": "JM2u-XNsu-G9"
   },
   "source": [
    "Toutes les images de dataset ont une taille de 48x48. Étant donné que ces images sont en grises ( pas RGB), il n'y a qu'un seul canal. \n",
    "Nous allons extraire les données d'image et les réorganiser dans un array 48x48. Puis les convertir en entier et les diviser par 255 pour normaliser les données."
   ]
  },
  {
   "cell_type": "code",
   "execution_count": 33,
   "metadata": {
    "colab": {
     "base_uri": "https://localhost:8080/",
     "height": 34
    },
    "colab_type": "code",
    "id": "M5lqXf_Wu-G0",
    "outputId": "dbc3d70a-d245-44af-822d-dd44dbf71950"
   },
   "outputs": [
    {
     "name": "stdout",
     "output_type": "stream",
     "text": [
      "<class 'list'>\n"
     ]
    }
   ],
   "source": [
    "train_data=[]\n",
    "test_data =[]\n",
    "test_labels=[]\n",
    "train_labels=[]\n",
    "test_list=[]\n",
    "\n",
    "with open(dataset_path, 'r') as file:\n",
    "        for line_no, line in enumerate(file.readlines()):\n",
    "            if 0< line_no <=35887:\n",
    "                curr_class, line, set_type = line.split(',')  \n",
    "                \n",
    "                #Creating a list out of the string then converting it into a 2-Dimensional numpy array.\n",
    "                image_data=np.asarray([int(x) for x in line.split()]).reshape(48,48)\n",
    "                #normalize\n",
    "                image_data=image_data.astype(np.uint8)/255.0\n",
    "                 \n",
    "                #verify if the image is used for training or test (or other)\n",
    "                if(set_type.strip() == 'Training'):\n",
    "                    train_data.append(image_data)\n",
    "                    train_labels.append(curr_class)\n",
    "                else:\n",
    "                    test_data.append(image_data)\n",
    "                    test_labels.append(curr_class)\n",
    "print(type(train_data))                "
   ]
  },
  {
   "cell_type": "markdown",
   "metadata": {},
   "source": [
    "Reshape de (48,48) en (48,48,1) et appliquer le onehot encoding pour les labels"
   ]
  },
  {
   "cell_type": "code",
   "execution_count": 34,
   "metadata": {
    "colab": {},
    "colab_type": "code",
    "id": "-5e5J8Syu-G_"
   },
   "outputs": [],
   "source": [
    "#2D en 3D \n",
    "train_data= np.expand_dims(train_data,-1)\n",
    "train_labels = to_categorical(train_labels, num_classes= 7)\n",
    "test_data = np.expand_dims(test_data, -1)\n",
    "test_labels = to_categorical(test_labels, num_classes=7)"
   ]
  },
  {
   "cell_type": "code",
   "execution_count": 35,
   "metadata": {
    "colab": {
     "base_uri": "https://localhost:8080/",
     "height": 68
    },
    "colab_type": "code",
    "id": "QQU7bynxu-HW",
    "outputId": "221c7d0f-abf3-433e-cf5e-805f8ce63c28"
   },
   "outputs": [
    {
     "name": "stdout",
     "output_type": "stream",
     "text": [
      "<class 'numpy.ndarray'>\n",
      "Number of images in Training set: 28709\n",
      "Number of images in Test set: 7178\n"
     ]
    }
   ],
   "source": [
    "print(type(train_data))\n",
    "print(\"Number of images in Training set:\", len(train_data))\n",
    "print(\"Number of images in Test set:\", len(test_data))"
   ]
  },
  {
   "cell_type": "markdown",
   "metadata": {
    "colab_type": "text",
    "id": "uv0G7c6-P8IF"
   },
   "source": [
    "Je vérifie juste si les 5 premieres images après les traitements ont toujours le bon label"
   ]
  },
  {
   "cell_type": "code",
   "execution_count": 59,
   "metadata": {
    "colab": {
     "base_uri": "https://localhost:8080/",
     "height": 503
    },
    "colab_type": "code",
    "id": "ndx0lHRqu-Hr",
    "outputId": "01f4b318-20d9-4bf2-9600-d37cbfc17dbb"
   },
   "outputs": [
    {
     "data": {
      "image/png": "[encoded data removed]",
      "text/plain": [
       "<Figure size 432x288 with 15 Axes>"
      ]
     },
     "metadata": {
      "needs_background": "light"
     },
     "output_type": "display_data"
    }
   ],
   "source": [
    "#plot \n",
    "\n",
    "f, axarr = plt.subplots(3,5)\n",
    "\n",
    "cpt=0\n",
    "for i in range(3):\n",
    "    for j in range(5):\n",
    "        \n",
    "        test_image=np.copy(train_data[cpt])\n",
    "  \n",
    "        #because it's 28x28x1, last dimension is not RGB,it's greyscale\n",
    "        #so we can remove it\n",
    "\n",
    "        test_image=test_image[:,:,0]\n",
    "        #print(test_image.shape)\n",
    "        axarr[i,j].imshow(test_image,cmap='gray')\n",
    "        cpt+=1\n"
   ]
  },
  {
   "cell_type": "code",
   "execution_count": 60,
   "metadata": {
    "colab": {
     "base_uri": "https://localhost:8080/",
     "height": 102
    },
    "colab_type": "code",
    "id": "RfBb92Ofu-Hh",
    "outputId": "10e94670-1504-4995-fe30-0edc10334707"
   },
   "outputs": [
    {
     "data": {
      "text/plain": [
       "array([0, 0, 2, 4, 6, 2, 4, 3, 3, 2, 0, 6, 6, 6, 3], dtype=int64)"
      ]
     },
     "execution_count": 60,
     "metadata": {},
     "output_type": "execute_result"
    }
   ],
   "source": [
    "# Afficher les 15 premiers labels du train\n",
    "np.argmax(train_labels[:15],axis=1)"
   ]
  },
  {
   "cell_type": "markdown",
   "metadata": {
    "colab_type": "text",
    "id": "A6dzAReOu-Hw"
   },
   "source": [
    "Description des 7 emotions: \n",
    " - 0 'Angry'  \n",
    " - 1 'Disgust'   \n",
    " - 2 'Fear'    \n",
    " - 3 'Happy'    \n",
    " - 4 'Sad'    \n",
    " - 5 'Surprise'   \n",
    " - 6 'Neutral'"
   ]
  },
  {
   "cell_type": "markdown",
   "metadata": {},
   "source": [
    "Les prétraitements sont correctes"
   ]
  },
  {
   "cell_type": "markdown",
   "metadata": {
    "colab_type": "text",
    "id": "uJi8xAJe7gkf"
   },
   "source": [
    "## Modèle du tutoriel"
   ]
  },
  {
   "cell_type": "code",
   "execution_count": 0,
   "metadata": {
    "colab": {
     "base_uri": "https://localhost:8080/",
     "height": 1839
    },
    "colab_type": "code",
    "id": "iNCR216yu-H4",
    "outputId": "1d470ad4-1204-45ef-fad7-2eceed75d6ad"
   },
   "outputs": [
    {
     "name": "stderr",
     "output_type": "stream",
     "text": [
      "WARNING: Logging before flag parsing goes to stderr.\n",
      "W0621 16:47:04.318198 140564727322496 deprecation_wrapper.py:119] From /usr/local/lib/python3.6/dist-packages/keras/backend/tensorflow_backend.py:74: The name tf.get_default_graph is deprecated. Please use tf.compat.v1.get_default_graph instead.\n",
      "\n",
      "W0621 16:47:04.365833 140564727322496 deprecation_wrapper.py:119] From /usr/local/lib/python3.6/dist-packages/keras/backend/tensorflow_backend.py:517: The name tf.placeholder is deprecated. Please use tf.compat.v1.placeholder instead.\n",
      "\n",
      "W0621 16:47:04.372909 140564727322496 deprecation_wrapper.py:119] From /usr/local/lib/python3.6/dist-packages/keras/backend/tensorflow_backend.py:4138: The name tf.random_uniform is deprecated. Please use tf.random.uniform instead.\n",
      "\n",
      "W0621 16:47:04.435743 140564727322496 deprecation_wrapper.py:119] From /usr/local/lib/python3.6/dist-packages/keras/backend/tensorflow_backend.py:174: The name tf.get_default_session is deprecated. Please use tf.compat.v1.get_default_session instead.\n",
      "\n",
      "W0621 16:47:04.436743 140564727322496 deprecation_wrapper.py:119] From /usr/local/lib/python3.6/dist-packages/keras/backend/tensorflow_backend.py:181: The name tf.ConfigProto is deprecated. Please use tf.compat.v1.ConfigProto instead.\n",
      "\n",
      "W0621 16:47:07.082039 140564727322496 deprecation_wrapper.py:119] From /usr/local/lib/python3.6/dist-packages/keras/backend/tensorflow_backend.py:1834: The name tf.nn.fused_batch_norm is deprecated. Please use tf.compat.v1.nn.fused_batch_norm instead.\n",
      "\n",
      "W0621 16:47:07.156363 140564727322496 deprecation_wrapper.py:119] From /usr/local/lib/python3.6/dist-packages/keras/backend/tensorflow_backend.py:3976: The name tf.nn.max_pool is deprecated. Please use tf.nn.max_pool2d instead.\n",
      "\n",
      "W0621 16:47:07.167452 140564727322496 deprecation.py:506] From /usr/local/lib/python3.6/dist-packages/keras/backend/tensorflow_backend.py:3445: calling dropout (from tensorflow.python.ops.nn_ops) with keep_prob is deprecated and will be removed in a future version.\n",
      "Instructions for updating:\n",
      "Please use `rate` instead of `keep_prob`. Rate should be set to `rate = 1 - keep_prob`.\n",
      "W0621 16:47:08.272848 140564727322496 deprecation_wrapper.py:119] From /usr/local/lib/python3.6/dist-packages/keras/optimizers.py:790: The name tf.train.Optimizer is deprecated. Please use tf.compat.v1.train.Optimizer instead.\n",
      "\n"
     ]
    },
    {
     "name": "stdout",
     "output_type": "stream",
     "text": [
      "_________________________________________________________________\n",
      "Layer (type)                 Output Shape              Param #   \n",
      "=================================================================\n",
      "conv2d_1 (Conv2D)            (None, 46, 46, 64)        640       \n",
      "_________________________________________________________________\n",
      "conv2d_2 (Conv2D)            (None, 46, 46, 64)        36928     \n",
      "_________________________________________________________________\n",
      "batch_normalization_1 (Batch (None, 46, 46, 64)        256       \n",
      "_________________________________________________________________\n",
      "max_pooling2d_1 (MaxPooling2 (None, 23, 23, 64)        0         \n",
      "_________________________________________________________________\n",
      "dropout_1 (Dropout)          (None, 23, 23, 64)        0         \n",
      "_________________________________________________________________\n",
      "conv2d_3 (Conv2D)            (None, 23, 23, 128)       73856     \n",
      "_________________________________________________________________\n",
      "batch_normalization_2 (Batch (None, 23, 23, 128)       512       \n",
      "_________________________________________________________________\n",
      "conv2d_4 (Conv2D)            (None, 23, 23, 128)       147584    \n",
      "_________________________________________________________________\n",
      "batch_normalization_3 (Batch (None, 23, 23, 128)       512       \n",
      "_________________________________________________________________\n",
      "conv2d_5 (Conv2D)            (None, 23, 23, 128)       147584    \n",
      "_________________________________________________________________\n",
      "batch_normalization_4 (Batch (None, 23, 23, 128)       512       \n",
      "_________________________________________________________________\n",
      "max_pooling2d_2 (MaxPooling2 (None, 11, 11, 128)       0         \n",
      "_________________________________________________________________\n",
      "dropout_2 (Dropout)          (None, 11, 11, 128)       0         \n",
      "_________________________________________________________________\n",
      "conv2d_6 (Conv2D)            (None, 11, 11, 256)       295168    \n",
      "_________________________________________________________________\n",
      "batch_normalization_5 (Batch (None, 11, 11, 256)       1024      \n",
      "_________________________________________________________________\n",
      "conv2d_7 (Conv2D)            (None, 11, 11, 256)       590080    \n",
      "_________________________________________________________________\n",
      "batch_normalization_6 (Batch (None, 11, 11, 256)       1024      \n",
      "_________________________________________________________________\n",
      "conv2d_8 (Conv2D)            (None, 11, 11, 256)       590080    \n",
      "_________________________________________________________________\n",
      "batch_normalization_7 (Batch (None, 11, 11, 256)       1024      \n",
      "_________________________________________________________________\n",
      "max_pooling2d_3 (MaxPooling2 (None, 5, 5, 256)         0         \n",
      "_________________________________________________________________\n",
      "dropout_3 (Dropout)          (None, 5, 5, 256)         0         \n",
      "_________________________________________________________________\n",
      "conv2d_9 (Conv2D)            (None, 5, 5, 512)         1180160   \n",
      "_________________________________________________________________\n",
      "batch_normalization_8 (Batch (None, 5, 5, 512)         2048      \n",
      "_________________________________________________________________\n",
      "conv2d_10 (Conv2D)           (None, 5, 5, 512)         2359808   \n",
      "_________________________________________________________________\n",
      "batch_normalization_9 (Batch (None, 5, 5, 512)         2048      \n",
      "_________________________________________________________________\n",
      "conv2d_11 (Conv2D)           (None, 5, 5, 512)         2359808   \n",
      "_________________________________________________________________\n",
      "batch_normalization_10 (Batc (None, 5, 5, 512)         2048      \n",
      "_________________________________________________________________\n",
      "max_pooling2d_4 (MaxPooling2 (None, 2, 2, 512)         0         \n",
      "_________________________________________________________________\n",
      "dropout_4 (Dropout)          (None, 2, 2, 512)         0         \n",
      "_________________________________________________________________\n",
      "flatten_1 (Flatten)          (None, 2048)              0         \n",
      "_________________________________________________________________\n",
      "dense_1 (Dense)              (None, 512)               1049088   \n",
      "_________________________________________________________________\n",
      "dropout_5 (Dropout)          (None, 512)               0         \n",
      "_________________________________________________________________\n",
      "dense_2 (Dense)              (None, 256)               131328    \n",
      "_________________________________________________________________\n",
      "dropout_6 (Dropout)          (None, 256)               0         \n",
      "_________________________________________________________________\n",
      "dense_3 (Dense)              (None, 128)               32896     \n",
      "_________________________________________________________________\n",
      "dropout_7 (Dropout)          (None, 128)               0         \n",
      "_________________________________________________________________\n",
      "dense_4 (Dense)              (None, 64)                8256      \n",
      "_________________________________________________________________\n",
      "dropout_8 (Dropout)          (None, 64)                0         \n",
      "_________________________________________________________________\n",
      "dense_5 (Dense)              (None, 7)                 455       \n",
      "=================================================================\n",
      "Total params: 9,014,727\n",
      "Trainable params: 9,009,223\n",
      "Non-trainable params: 5,504\n",
      "_________________________________________________________________\n",
      "None\n"
     ]
    }
   ],
   "source": [
    "# HYPERPARAMATERS\n",
    "epochs = 100\n",
    "batch_size = 64\n",
    "learning_rate = 0.001\n",
    "\n",
    "\n",
    "model = Sequential()\n",
    "    data:image/png;base64,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\n",
    "model.add(Conv2D(64, (3, 3), activation='relu', input_shape=(48, 48, 1), kernel_regularizer=l2(0.01)))\n",
    "model.add(Conv2D(64, (3, 3), padding='same',activation='relu'))\n",
    "model.add(BatchNormalization())\n",
    "model.add(MaxPooling2D(pool_size=(2,2), strides=(2, 2)))\n",
    "model.add(Dropout(0.5))\n",
    "    \n",
    "model.add(Conv2D(128, (3, 3), padding='same', activation='relu'))\n",
    "model.add(BatchNormalization())\n",
    "model.add(Conv2D(128, (3, 3), padding='same', activation='relu'))\n",
    "model.add(BatchNormalization())\n",
    "model.add(Conv2D(128, (3, 3), padding='same', activation='relu'))\n",
    "model.add(BatchNormalization())\n",
    "model.add(MaxPooling2D(pool_size=(2,2)))\n",
    "model.add(Dropout(0.5))\n",
    "\n",
    "\n",
    "model.add(Conv2D(256, (3, 3), padding='same', activation='relu'))\n",
    "model.add(BatchNormalization())\n",
    "model.add(Conv2D(256, (3, 3), padding='same', activation='relu'))\n",
    "model.add(BatchNormalization())\n",
    "model.add(Conv2D(256, (3, 3), padding='same', activation='relu'))\n",
    "model.add(BatchNormalization())\n",
    "model.add(MaxPooling2D(pool_size=(2,2)))\n",
    "model.add(Dropout(0.5))\n",
    "    \n",
    "model.add(Conv2D(512, (3, 3), padding='same', activation='relu'))\n",
    "model.add(BatchNormalization())\n",
    "model.add(Conv2D(512, (3, 3), padding='same', activation='relu'))\n",
    "model.add(BatchNormalization())\n",
    "model.add(Conv2D(512, (3, 3), padding='same', activation='relu'))\n",
    "model.add(BatchNormalization())\n",
    "model.add(MaxPooling2D(pool_size=(2,2)))\n",
    "model.add(Dropout(0.5))\n",
    "\n",
    "model.add(Flatten())\n",
    "model.add(Dense(512, activation='relu'))\n",
    "model.add(Dropout(0.5))\n",
    "model.add(Dense(256, activation='relu'))\n",
    "model.add(Dropout(0.5))\n",
    "model.add(Dense(128, activation='relu'))\n",
    "model.add(Dropout(0.5))\n",
    "model.add(Dense(64, activation='relu'))\n",
    "model.add(Dropout(0.5))\n",
    "model.add(Dense(7, activation='softmax'))\n",
    "adam = optimizers.Adam(lr = learning_rate)\n",
    "model.compile(optimizer = adam, loss = 'categorical_crossentropy', metrics = ['accuracy'])\n",
    "    \n",
    "print(model.summary())\n",
    "\n"
   ]
  },
  {
   "cell_type": "code",
   "execution_count": 0,
   "metadata": {
    "colab": {},
    "colab_type": "code",
    "id": "XN2iLrteu-H8"
   },
   "outputs": [],
   "source": [
    "lr_reducer = ReduceLROnPlateau(monitor='val_loss', factor=0.9, patience=3)\n",
    "early_stopper = EarlyStopping(monitor='val_acc', min_delta=0, patience=6, mode='auto')\n",
    "checkpointer = ModelCheckpoint('/content/gdrive/My Drive/Google Colab/Emotions Recognizer/weights.hd5', monitor='val_loss', verbose=1, save_best_only=True)"
   ]
  },
  {
   "cell_type": "code",
   "execution_count": 0,
   "metadata": {
    "colab": {
     "base_uri": "https://localhost:8080/",
     "height": 4471
    },
    "colab_type": "code",
    "id": "EL9PY8FA8BEL",
    "outputId": "c7d7a090-f1fb-45bf-9802-0aa7b38e292e"
   },
   "outputs": [
    {
     "name": "stdout",
     "output_type": "stream",
     "text": [
      "Train on 22967 samples, validate on 5742 samples\n",
      "Epoch 1/100\n",
      "22967/22967 [==============================] - 27s 1ms/step - loss: 1.8516 - acc: 0.2412 - val_loss: 1.8389 - val_acc: 0.2517\n",
      "\n",
      "Epoch 00001: val_loss improved from inf to 1.83890, saving model to /content/gdrive/My Drive/Google Colab/Emotions Recognizer/weights.hd5\n",
      "Epoch 2/100\n",
      "22967/22967 [==============================] - 28s 1ms/step - loss: 1.8375 - acc: 0.2493 - val_loss: 1.8256 - val_acc: 0.2517\n",
      "\n",
      "Epoch 00002: val_loss improved from 1.83890 to 1.82559, saving model to /content/gdrive/My Drive/Google Colab/Emotions Recognizer/weights.hd5\n",
      "Epoch 3/100\n",
      "22967/22967 [==============================] - 28s 1ms/step - loss: 1.8283 - acc: 0.2489 - val_loss: 1.8197 - val_acc: 0.2517\n",
      "\n",
      "Epoch 00003: val_loss improved from 1.82559 to 1.81972, saving model to /content/gdrive/My Drive/Google Colab/Emotions Recognizer/weights.hd5\n",
      "Epoch 4/100\n",
      "22967/22967 [==============================] - 28s 1ms/step - loss: 1.8195 - acc: 0.2507 - val_loss: 1.8018 - val_acc: 0.2517\n",
      "\n",
      "Epoch 00004: val_loss improved from 1.81972 to 1.80185, saving model to /content/gdrive/My Drive/Google Colab/Emotions Recognizer/weights.hd5\n",
      "Epoch 5/100\n",
      "22967/22967 [==============================] - 28s 1ms/step - loss: 1.8131 - acc: 0.2510 - val_loss: 1.8074 - val_acc: 0.2517\n",
      "\n",
      "Epoch 00005: val_loss did not improve from 1.80185\n",
      "Epoch 6/100\n",
      "22967/22967 [==============================] - 28s 1ms/step - loss: 1.8059 - acc: 0.2544 - val_loss: 1.8151 - val_acc: 0.2517\n",
      "\n",
      "Epoch 00006: val_loss did not improve from 1.80185\n",
      "Epoch 7/100\n",
      "22967/22967 [==============================] - 29s 1ms/step - loss: 1.7833 - acc: 0.2662 - val_loss: 1.7922 - val_acc: 0.2614\n",
      "\n",
      "Epoch 00007: val_loss improved from 1.80185 to 1.79223, saving model to /content/gdrive/My Drive/Google Colab/Emotions Recognizer/weights.hd5\n",
      "Epoch 8/100\n",
      "22967/22967 [==============================] - 29s 1ms/step - loss: 1.7633 - acc: 0.2753 - val_loss: 1.8045 - val_acc: 0.2750\n",
      "\n",
      "Epoch 00008: val_loss did not improve from 1.79223\n",
      "Epoch 9/100\n",
      "22967/22967 [==============================] - 29s 1ms/step - loss: 1.7446 - acc: 0.2875 - val_loss: 1.7906 - val_acc: 0.2638\n",
      "\n",
      "Epoch 00009: val_loss improved from 1.79223 to 1.79063, saving model to /content/gdrive/My Drive/Google Colab/Emotions Recognizer/weights.hd5\n",
      "Epoch 10/100\n",
      "22967/22967 [==============================] - 29s 1ms/step - loss: 1.7077 - acc: 0.3016 - val_loss: 1.8795 - val_acc: 0.2517\n",
      "\n",
      "Epoch 00010: val_loss did not improve from 1.79063\n",
      "Epoch 11/100\n",
      "22967/22967 [==============================] - 29s 1ms/step - loss: 1.6730 - acc: 0.3125 - val_loss: 1.6755 - val_acc: 0.2837\n",
      "\n",
      "Epoch 00011: val_loss improved from 1.79063 to 1.67550, saving model to /content/gdrive/My Drive/Google Colab/Emotions Recognizer/weights.hd5\n",
      "Epoch 12/100\n",
      "22967/22967 [==============================] - 29s 1ms/step - loss: 1.6109 - acc: 0.3557 - val_loss: 1.4874 - val_acc: 0.4006\n",
      "\n",
      "Epoch 00012: val_loss improved from 1.67550 to 1.48744, saving model to /content/gdrive/My Drive/Google Colab/Emotions Recognizer/weights.hd5\n",
      "Epoch 13/100\n",
      "22967/22967 [==============================] - 29s 1ms/step - loss: 1.5500 - acc: 0.3812 - val_loss: 1.5345 - val_acc: 0.3654\n",
      "\n",
      "Epoch 00013: val_loss did not improve from 1.48744\n",
      "Epoch 14/100\n",
      "22967/22967 [==============================] - 29s 1ms/step - loss: 1.5173 - acc: 0.3967 - val_loss: 1.4244 - val_acc: 0.4316\n",
      "\n",
      "Epoch 00014: val_loss improved from 1.48744 to 1.42442, saving model to /content/gdrive/My Drive/Google Colab/Emotions Recognizer/weights.hd5\n",
      "Epoch 15/100\n",
      "22967/22967 [==============================] - 29s 1ms/step - loss: 1.4886 - acc: 0.4086 - val_loss: 1.4748 - val_acc: 0.4020\n",
      "\n",
      "Epoch 00015: val_loss did not improve from 1.42442\n",
      "Epoch 16/100\n",
      "22967/22967 [==============================] - 29s 1ms/step - loss: 1.4570 - acc: 0.4188 - val_loss: 1.3969 - val_acc: 0.4204\n",
      "\n",
      "Epoch 00016: val_loss improved from 1.42442 to 1.39692, saving model to /content/gdrive/My Drive/Google Colab/Emotions Recognizer/weights.hd5\n",
      "Epoch 17/100\n",
      "22967/22967 [==============================] - 29s 1ms/step - loss: 1.4382 - acc: 0.4235 - val_loss: 1.3711 - val_acc: 0.4464\n",
      "\n",
      "Epoch 00017: val_loss improved from 1.39692 to 1.37112, saving model to /content/gdrive/My Drive/Google Colab/Emotions Recognizer/weights.hd5\n",
      "Epoch 18/100\n",
      "22967/22967 [==============================] - 29s 1ms/step - loss: 1.4156 - acc: 0.4322 - val_loss: 1.5163 - val_acc: 0.3833\n",
      "\n",
      "Epoch 00018: val_loss did not improve from 1.37112\n",
      "Epoch 19/100\n",
      "22967/22967 [==============================] - 29s 1ms/step - loss: 1.4101 - acc: 0.4364 - val_loss: 1.4680 - val_acc: 0.4187\n",
      "\n",
      "Epoch 00019: val_loss did not improve from 1.37112\n",
      "Epoch 20/100\n",
      "22967/22967 [==============================] - 29s 1ms/step - loss: 1.3843 - acc: 0.4420 - val_loss: 1.4032 - val_acc: 0.4488\n",
      "\n",
      "Epoch 00020: val_loss did not improve from 1.37112\n",
      "Epoch 21/100\n",
      "22967/22967 [==============================] - 29s 1ms/step - loss: 1.3683 - acc: 0.4444 - val_loss: 1.3863 - val_acc: 0.4382\n",
      "\n",
      "Epoch 00021: val_loss did not improve from 1.37112\n",
      "Epoch 22/100\n",
      "22967/22967 [==============================] - 29s 1ms/step - loss: 1.3429 - acc: 0.4546 - val_loss: 1.2973 - val_acc: 0.4660\n",
      "\n",
      "Epoch 00022: val_loss improved from 1.37112 to 1.29731, saving model to /content/gdrive/My Drive/Google Colab/Emotions Recognizer/weights.hd5\n",
      "Epoch 23/100\n",
      "22967/22967 [==============================] - 29s 1ms/step - loss: 1.3324 - acc: 0.4564 - val_loss: 1.3990 - val_acc: 0.4258\n",
      "\n",
      "Epoch 00023: val_loss did not improve from 1.29731\n",
      "Epoch 24/100\n",
      "22967/22967 [==============================] - 29s 1ms/step - loss: 1.3233 - acc: 0.4667 - val_loss: 1.3346 - val_acc: 0.4782\n",
      "\n",
      "Epoch 00024: val_loss did not improve from 1.29731\n",
      "Epoch 25/100\n",
      "22967/22967 [==============================] - 29s 1ms/step - loss: 1.2988 - acc: 0.4858 - val_loss: 1.2860 - val_acc: 0.4887\n",
      "\n",
      "Epoch 00025: val_loss improved from 1.29731 to 1.28595, saving model to /content/gdrive/My Drive/Google Colab/Emotions Recognizer/weights.hd5\n",
      "Epoch 26/100\n",
      "22967/22967 [==============================] - 29s 1ms/step - loss: 1.2736 - acc: 0.5004 - val_loss: 1.2934 - val_acc: 0.5054\n",
      "\n",
      "Epoch 00026: val_loss did not improve from 1.28595\n",
      "Epoch 27/100\n",
      "22967/22967 [==============================] - 29s 1ms/step - loss: 1.2514 - acc: 0.5116 - val_loss: 1.2995 - val_acc: 0.5009\n",
      "\n",
      "Epoch 00027: val_loss did not improve from 1.28595\n",
      "Epoch 28/100\n",
      "22967/22967 [==============================] - 29s 1ms/step - loss: 1.2252 - acc: 0.5253 - val_loss: 1.2845 - val_acc: 0.5044\n",
      "\n",
      "Epoch 00028: val_loss improved from 1.28595 to 1.28451, saving model to /content/gdrive/My Drive/Google Colab/Emotions Recognizer/weights.hd5\n",
      "Epoch 29/100\n",
      "22967/22967 [==============================] - 29s 1ms/step - loss: 1.2105 - acc: 0.5339 - val_loss: 1.2430 - val_acc: 0.5310\n",
      "\n",
      "Epoch 00029: val_loss improved from 1.28451 to 1.24299, saving model to /content/gdrive/My Drive/Google Colab/Emotions Recognizer/weights.hd5\n",
      "Epoch 30/100\n",
      "22967/22967 [==============================] - 29s 1ms/step - loss: 1.1944 - acc: 0.5453 - val_loss: 1.2262 - val_acc: 0.5374\n",
      "\n",
      "Epoch 00030: val_loss improved from 1.24299 to 1.22619, saving model to /content/gdrive/My Drive/Google Colab/Emotions Recognizer/weights.hd5\n",
      "Epoch 31/100\n",
      "22967/22967 [==============================] - 29s 1ms/step - loss: 1.1750 - acc: 0.5507 - val_loss: 1.1999 - val_acc: 0.5526\n",
      "\n",
      "Epoch 00031: val_loss improved from 1.22619 to 1.19989, saving model to /content/gdrive/My Drive/Google Colab/Emotions Recognizer/weights.hd5\n",
      "Epoch 32/100\n",
      "22967/22967 [==============================] - 29s 1ms/step - loss: 1.1451 - acc: 0.5629 - val_loss: 1.1861 - val_acc: 0.5690\n",
      "\n",
      "Epoch 00032: val_loss improved from 1.19989 to 1.18613, saving model to /content/gdrive/My Drive/Google Colab/Emotions Recognizer/weights.hd5\n",
      "Epoch 33/100\n",
      "22967/22967 [==============================] - 29s 1ms/step - loss: 1.1337 - acc: 0.5694 - val_loss: 1.2240 - val_acc: 0.5507\n",
      "\n",
      "Epoch 00033: val_loss did not improve from 1.18613\n",
      "Epoch 34/100\n",
      "22967/22967 [==============================] - 29s 1ms/step - loss: 1.1180 - acc: 0.5770 - val_loss: 1.1659 - val_acc: 0.5789\n",
      "\n",
      "Epoch 00034: val_loss improved from 1.18613 to 1.16593, saving model to /content/gdrive/My Drive/Google Colab/Emotions Recognizer/weights.hd5\n",
      "Epoch 35/100\n",
      "22967/22967 [==============================] - 29s 1ms/step - loss: 1.0996 - acc: 0.5839 - val_loss: 1.1816 - val_acc: 0.5672\n",
      "\n",
      "Epoch 00035: val_loss did not improve from 1.16593\n",
      "Epoch 36/100\n",
      "22967/22967 [==============================] - 29s 1ms/step - loss: 1.0779 - acc: 0.5917 - val_loss: 1.2442 - val_acc: 0.5531\n",
      "\n",
      "Epoch 00036: val_loss did not improve from 1.16593\n",
      "Epoch 37/100\n",
      "22967/22967 [==============================] - 29s 1ms/step - loss: 1.0551 - acc: 0.6022 - val_loss: 1.1738 - val_acc: 0.5726\n",
      "\n",
      "Epoch 00037: val_loss did not improve from 1.16593\n",
      "Epoch 38/100\n",
      "22967/22967 [==============================] - 29s 1ms/step - loss: 1.0334 - acc: 0.6145 - val_loss: 1.1944 - val_acc: 0.5763\n",
      "\n",
      "Epoch 00038: val_loss did not improve from 1.16593\n",
      "Epoch 39/100\n",
      "22967/22967 [==============================] - 29s 1ms/step - loss: 1.0047 - acc: 0.6266 - val_loss: 1.1789 - val_acc: 0.5787\n",
      "\n",
      "Epoch 00039: val_loss did not improve from 1.16593\n",
      "Epoch 40/100\n",
      "22967/22967 [==============================] - 29s 1ms/step - loss: 0.9867 - acc: 0.6330 - val_loss: 1.1653 - val_acc: 0.5874\n",
      "\n",
      "Epoch 00040: val_loss improved from 1.16593 to 1.16525, saving model to /content/gdrive/My Drive/Google Colab/Emotions Recognizer/weights.hd5\n",
      "Epoch 41/100\n",
      "22967/22967 [==============================] - 29s 1ms/step - loss: 0.9828 - acc: 0.6378 - val_loss: 1.1727 - val_acc: 0.5899\n",
      "\n",
      "Epoch 00041: val_loss did not improve from 1.16525\n",
      "Epoch 42/100\n",
      "22967/22967 [==============================] - 29s 1ms/step - loss: 0.9482 - acc: 0.6514 - val_loss: 1.1914 - val_acc: 0.5892\n",
      "\n",
      "Epoch 00042: val_loss did not improve from 1.16525\n",
      "Epoch 43/100\n",
      "22967/22967 [==============================] - 29s 1ms/step - loss: 0.9491 - acc: 0.6525 - val_loss: 1.2064 - val_acc: 0.5778\n",
      "\n",
      "Epoch 00043: val_loss did not improve from 1.16525\n",
      "Epoch 44/100\n",
      "22967/22967 [==============================] - 29s 1ms/step - loss: 0.9065 - acc: 0.6680 - val_loss: 1.2263 - val_acc: 0.5961\n",
      "\n",
      "Epoch 00044: val_loss did not improve from 1.16525\n",
      "Epoch 45/100\n",
      "22967/22967 [==============================] - 29s 1ms/step - loss: 0.8841 - acc: 0.6728 - val_loss: 1.1824 - val_acc: 0.6061\n",
      "\n",
      "Epoch 00045: val_loss did not improve from 1.16525\n",
      "Epoch 46/100\n",
      "22967/22967 [==============================] - 29s 1ms/step - loss: 0.8700 - acc: 0.6798 - val_loss: 1.1870 - val_acc: 0.6010\n",
      "\n",
      "Epoch 00046: val_loss did not improve from 1.16525\n",
      "Epoch 47/100\n",
      "22967/22967 [==============================] - 29s 1ms/step - loss: 0.8384 - acc: 0.6939 - val_loss: 1.2837 - val_acc: 0.6014\n",
      "\n",
      "Epoch 00047: val_loss did not improve from 1.16525\n",
      "Epoch 48/100\n",
      "22967/22967 [==============================] - 29s 1ms/step - loss: 0.8263 - acc: 0.7048 - val_loss: 1.2389 - val_acc: 0.5913\n",
      "\n",
      "Epoch 00048: val_loss did not improve from 1.16525\n",
      "Epoch 49/100\n",
      "22967/22967 [==============================] - 29s 1ms/step - loss: 0.7922 - acc: 0.7156 - val_loss: 1.2238 - val_acc: 0.6094\n",
      "\n",
      "Epoch 00049: val_loss did not improve from 1.16525\n",
      "Epoch 50/100\n",
      "22967/22967 [==============================] - 29s 1ms/step - loss: 0.7658 - acc: 0.7281 - val_loss: 1.2436 - val_acc: 0.6099\n",
      "\n",
      "Epoch 00050: val_loss did not improve from 1.16525\n",
      "Epoch 51/100\n",
      "22967/22967 [==============================] - 29s 1ms/step - loss: 0.7535 - acc: 0.7344 - val_loss: 1.3045 - val_acc: 0.6082\n",
      "\n",
      "Epoch 00051: val_loss did not improve from 1.16525\n",
      "Epoch 52/100\n",
      "22967/22967 [==============================] - 29s 1ms/step - loss: 0.7368 - acc: 0.7414 - val_loss: 1.2861 - val_acc: 0.6024\n",
      "\n",
      "Epoch 00052: val_loss did not improve from 1.16525\n",
      "Epoch 53/100\n",
      "22967/22967 [==============================] - 29s 1ms/step - loss: 0.7073 - acc: 0.7481 - val_loss: 1.3219 - val_acc: 0.6003\n",
      "\n",
      "Epoch 00053: val_loss did not improve from 1.16525\n",
      "Epoch 54/100\n",
      "22967/22967 [==============================] - 29s 1ms/step - loss: 0.6939 - acc: 0.7554 - val_loss: 1.2756 - val_acc: 0.6101\n",
      "\n",
      "Epoch 00054: val_loss did not improve from 1.16525\n",
      "Epoch 55/100\n",
      "22967/22967 [==============================] - 29s 1ms/step - loss: 0.6683 - acc: 0.7611 - val_loss: 1.3230 - val_acc: 0.6200\n",
      "\n",
      "Epoch 00055: val_loss did not improve from 1.16525\n",
      "Epoch 56/100\n",
      "22967/22967 [==============================] - 29s 1ms/step - loss: 0.6569 - acc: 0.7736 - val_loss: 1.3385 - val_acc: 0.6186\n",
      "\n",
      "Epoch 00056: val_loss did not improve from 1.16525\n",
      "Epoch 57/100\n",
      "22967/22967 [==============================] - 29s 1ms/step - loss: 0.6325 - acc: 0.7804 - val_loss: 1.4694 - val_acc: 0.5949\n",
      "\n",
      "Epoch 00057: val_loss did not improve from 1.16525\n",
      "Epoch 58/100\n",
      "22967/22967 [==============================] - 29s 1ms/step - loss: 0.6238 - acc: 0.7817 - val_loss: 1.4092 - val_acc: 0.6186\n",
      "\n",
      "Epoch 00058: val_loss did not improve from 1.16525\n",
      "Epoch 59/100\n",
      "22967/22967 [==============================] - 29s 1ms/step - loss: 0.5946 - acc: 0.7932 - val_loss: 1.4195 - val_acc: 0.6299\n",
      "\n",
      "Epoch 00059: val_loss did not improve from 1.16525\n",
      "Epoch 60/100\n",
      "22967/22967 [==============================] - 29s 1ms/step - loss: 0.5765 - acc: 0.8006 - val_loss: 1.4530 - val_acc: 0.6210\n",
      "\n",
      "Epoch 00060: val_loss did not improve from 1.16525\n",
      "Epoch 61/100\n",
      "22967/22967 [==============================] - 29s 1ms/step - loss: 0.5610 - acc: 0.8070 - val_loss: 1.4999 - val_acc: 0.6155\n",
      "\n",
      "Epoch 00061: val_loss did not improve from 1.16525\n",
      "Epoch 62/100\n",
      "22967/22967 [==============================] - 29s 1ms/step - loss: 0.5546 - acc: 0.8129 - val_loss: 1.4522 - val_acc: 0.6177\n",
      "\n",
      "Epoch 00062: val_loss did not improve from 1.16525\n",
      "Epoch 63/100\n",
      "22967/22967 [==============================] - 29s 1ms/step - loss: 0.5295 - acc: 0.8162 - val_loss: 1.4167 - val_acc: 0.6230\n",
      "\n",
      "Epoch 00063: val_loss did not improve from 1.16525\n",
      "Epoch 64/100\n",
      "22967/22967 [==============================] - 29s 1ms/step - loss: 0.5176 - acc: 0.8214 - val_loss: 1.4875 - val_acc: 0.6284\n",
      "\n",
      "Epoch 00064: val_loss did not improve from 1.16525\n",
      "Epoch 65/100\n",
      "22967/22967 [==============================] - 29s 1ms/step - loss: 0.5059 - acc: 0.8271 - val_loss: 1.5355 - val_acc: 0.6160\n",
      "\n",
      "Epoch 00065: val_loss did not improve from 1.16525\n"
     ]
    },
    {
     "data": {
      "text/plain": [
       "<keras.callbacks.History at 0x7fd7a43ae278>"
      ]
     },
     "execution_count": 29,
     "metadata": {
      "tags": []
     },
     "output_type": "execute_result"
    }
   ],
   "source": [
    "model.fit(\n",
    "          train_data,\n",
    "          train_labels,\n",
    "          epochs = epochs,\n",
    "          batch_size = batch_size,\n",
    "          validation_split = 0.2,\n",
    "          shuffle = True,\n",
    "          callbacks=[lr_reducer, checkpointer, early_stopper]\n",
    "          )"
   ]
  },
  {
   "cell_type": "markdown",
   "metadata": {
    "colab_type": "text",
    "id": "oXxOT76KKxNC"
   },
   "source": [
    "#### Tester le model du tutoriel"
   ]
  },
  {
   "cell_type": "code",
   "execution_count": 0,
   "metadata": {
    "colab": {
     "base_uri": "https://localhost:8080/",
     "height": 68
    },
    "colab_type": "code",
    "id": "6lWSBNXHK5Gc",
    "outputId": "fa3f470f-f12f-411c-943c-56e0f01f0efd"
   },
   "outputs": [
    {
     "name": "stdout",
     "output_type": "stream",
     "text": [
      "[4 0 0 ... 3 3 4]\n",
      "[0 1 4 ... 0 3 2]\n",
      "Accuracy score =  0.6103371412649763\n"
     ]
    }
   ],
   "source": [
    "#model.predict(test_data)\n",
    "#model.predict_classes(test_data)\n",
    "\n",
    "predicted_test_labels=np.argmax(model.predict(test_data),axis=1)\n",
    "real_test_labels=np.argmax(test_labels,axis=1)\n",
    "\n",
    "#argmax axis=1 (columns)\n",
    "print(predicted_test_labels)\n",
    "print(real_test_labels)\n",
    "\n",
    "print (\"Accuracy score = \", accuracy_score(real_test_labels, predicted_test_labels))"
   ]
  },
  {
   "cell_type": "markdown",
   "metadata": {
    "colab_type": "text",
    "id": "bY5IUWwDBRBC"
   },
   "source": [
    "## Modèle de Astride"
   ]
  },
  {
   "cell_type": "markdown",
   "metadata": {},
   "source": [
    "#### transformation du csv en images "
   ]
  },
  {
   "cell_type": "code",
   "execution_count": 1,
   "metadata": {},
   "outputs": [],
   "source": [
    "import cv2\n",
    "from cv2 import *\n",
    "from imutils import face_utils\n",
    "import numpy as np\n",
    "import argparse\n",
    "import csv\n",
    "import imutils\n",
    "import dlib\n",
    "import os\n",
    "import glob\n",
    "from os.path import basename, splitext\n",
    "import scipy.misc"
   ]
  },
  {
   "cell_type": "code",
   "execution_count": 2,
   "metadata": {},
   "outputs": [
    {
     "name": "stderr",
     "output_type": "stream",
     "text": [
      "Using TensorFlow backend.\n"
     ]
    }
   ],
   "source": [
    "#Import Libraries\n",
    "import matplotlib.pyplot as plt\n",
    "\n",
    "import numpy as np\n",
    "from keras.utils import to_categorical\n",
    "from sklearn.model_selection import train_test_split\n",
    "\n",
    "from keras.models import Sequential #Initialise our neural network model as a sequential network\n",
    "from keras.layers import Conv2D #Convolution operation\n",
    "from keras.layers.normalization import BatchNormalization\n",
    "from keras.regularizers import l2\n",
    "from keras.layers import Activation#Applies activation function\n",
    "from keras.layers import Dropout#Prevents overfitting by randomly converting few outputs to zero\n",
    "from keras.layers import MaxPooling2D # Maxpooling function\n",
    "from keras.layers import Flatten # Converting 2D arrays into a 1D linear vector\n",
    "from keras.layers import Dense # Regular fully connected neural network\n",
    "from keras import optimizers\n",
    "from keras.callbacks import ReduceLROnPlateau, EarlyStopping, TensorBoard, ModelCheckpoint\n",
    "from sklearn.metrics import accuracy_score"
   ]
  },
  {
   "cell_type": "code",
   "execution_count": 9,
   "metadata": {
    "colab": {},
    "colab_type": "code",
    "id": "lnaRvgpTBXt_"
   },
   "outputs": [
    {
     "name": "stdout",
     "output_type": "stream",
     "text": [
      "['emotion', 'pixels', 'Usage']\n"
     ]
    },
    {
     "name": "stderr",
     "output_type": "stream",
     "text": [
      "C:\\Users\\Fatah\\Anaconda3\\lib\\site-packages\\ipykernel_launcher.py:28: DeprecationWarning: `imsave` is deprecated!\n",
      "`imsave` is deprecated in SciPy 1.0.0, and will be removed in 1.2.0.\n",
      "Use ``imageio.imwrite`` instead.\n"
     ]
    },
    {
     "name": "stdout",
     "output_type": "stream",
     "text": [
      "Processed 100 images\n",
      "Processed 200 images\n",
      "Processed 300 images\n",
      "Processed 400 images\n",
      "Processed 500 images\n",
      "Processed 600 images\n",
      "Processed 700 images\n",
      "Processed 800 images\n",
      "Processed 900 images\n",
      "Processed 1000 images\n",
      "Processed 1100 images\n",
      "Processed 1200 images\n",
      "Processed 1300 images\n",
      "Processed 1400 images\n",
      "Processed 1500 images\n",
      "Processed 1600 images\n",
      "Processed 1700 images\n",
      "Processed 1800 images\n",
      "Processed 1900 images\n",
      "Processed 2000 images\n",
      "Processed 2100 images\n",
      "Processed 2200 images\n",
      "Processed 2300 images\n",
      "Processed 2400 images\n",
      "Processed 2500 images\n",
      "Processed 2600 images\n",
      "Processed 2700 images\n",
      "Processed 2800 images\n",
      "Processed 2900 images\n",
      "Processed 3000 images\n",
      "Processed 3100 images\n",
      "Processed 3200 images\n",
      "Processed 3300 images\n",
      "Processed 3400 images\n",
      "Processed 3500 images\n",
      "Processed 3600 images\n",
      "Processed 3700 images\n",
      "Processed 3800 images\n",
      "Processed 3900 images\n",
      "Processed 4000 images\n",
      "Processed 4100 images\n",
      "Processed 4200 images\n",
      "Processed 4300 images\n",
      "Processed 4400 images\n",
      "Processed 4500 images\n",
      "Processed 4600 images\n",
      "Processed 4700 images\n",
      "Processed 4800 images\n",
      "Processed 4900 images\n",
      "Processed 5000 images\n",
      "Processed 5100 images\n",
      "Processed 5200 images\n",
      "Processed 5300 images\n",
      "Processed 5400 images\n",
      "Processed 5500 images\n",
      "Processed 5600 images\n",
      "Processed 5700 images\n",
      "Processed 5800 images\n",
      "Processed 5900 images\n",
      "Processed 6000 images\n",
      "Processed 6100 images\n",
      "Processed 6200 images\n",
      "Processed 6300 images\n",
      "Processed 6400 images\n",
      "Processed 6500 images\n",
      "Processed 6600 images\n",
      "Processed 6700 images\n",
      "Processed 6800 images\n",
      "Processed 6900 images\n",
      "Processed 7000 images\n",
      "Processed 7100 images\n",
      "Processed 7200 images\n",
      "Processed 7300 images\n",
      "Processed 7400 images\n",
      "Processed 7500 images\n",
      "Processed 7600 images\n",
      "Processed 7700 images\n",
      "Processed 7800 images\n",
      "Processed 7900 images\n",
      "Processed 8000 images\n",
      "Processed 8100 images\n",
      "Processed 8200 images\n",
      "Processed 8300 images\n",
      "Processed 8400 images\n",
      "Processed 8500 images\n",
      "Processed 8600 images\n",
      "Processed 8700 images\n",
      "Processed 8800 images\n",
      "Processed 8900 images\n",
      "Processed 9000 images\n",
      "Processed 9100 images\n",
      "Processed 9200 images\n",
      "Processed 9300 images\n",
      "Processed 9400 images\n",
      "Processed 9500 images\n",
      "Processed 9600 images\n",
      "Processed 9700 images\n",
      "Processed 9800 images\n",
      "Processed 9900 images\n",
      "Processed 10000 images\n",
      "Processed 10100 images\n",
      "Processed 10200 images\n",
      "Processed 10300 images\n",
      "Processed 10400 images\n",
      "Processed 10500 images\n",
      "Processed 10600 images\n",
      "Processed 10700 images\n",
      "Processed 10800 images\n",
      "Processed 10900 images\n",
      "Processed 11000 images\n",
      "Processed 11100 images\n",
      "Processed 11200 images\n",
      "Processed 11300 images\n",
      "Processed 11400 images\n",
      "Processed 11500 images\n",
      "Processed 11600 images\n",
      "Processed 11700 images\n",
      "Processed 11800 images\n",
      "Processed 11900 images\n",
      "Processed 12000 images\n",
      "Processed 12100 images\n",
      "Processed 12200 images\n",
      "Processed 12300 images\n",
      "Processed 12400 images\n",
      "Processed 12500 images\n",
      "Processed 12600 images\n",
      "Processed 12700 images\n",
      "Processed 12800 images\n",
      "Processed 12900 images\n",
      "Processed 13000 images\n",
      "Processed 13100 images\n",
      "Processed 13200 images\n",
      "Processed 13300 images\n",
      "Processed 13400 images\n",
      "Processed 13500 images\n",
      "Processed 13600 images\n",
      "Processed 13700 images\n",
      "Processed 13800 images\n",
      "Processed 13900 images\n",
      "Processed 14000 images\n",
      "Processed 14100 images\n",
      "Processed 14200 images\n",
      "Processed 14300 images\n",
      "Processed 14400 images\n",
      "Processed 14500 images\n",
      "Processed 14600 images\n",
      "Processed 14700 images\n",
      "Processed 14800 images\n",
      "Processed 14900 images\n",
      "Processed 15000 images\n",
      "Processed 15100 images\n",
      "Processed 15200 images\n",
      "Processed 15300 images\n",
      "Processed 15400 images\n",
      "Processed 15500 images\n",
      "Processed 15600 images\n",
      "Processed 15700 images\n",
      "Processed 15800 images\n",
      "Processed 15900 images\n",
      "Processed 16000 images\n",
      "Processed 16100 images\n",
      "Processed 16200 images\n",
      "Processed 16300 images\n",
      "Processed 16400 images\n",
      "Processed 16500 images\n",
      "Processed 16600 images\n",
      "Processed 16700 images\n",
      "Processed 16800 images\n",
      "Processed 16900 images\n",
      "Processed 17000 images\n",
      "Processed 17100 images\n",
      "Processed 17200 images\n",
      "Processed 17300 images\n",
      "Processed 17400 images\n",
      "Processed 17500 images\n",
      "Processed 17600 images\n",
      "Processed 17700 images\n",
      "Processed 17800 images\n",
      "Processed 17900 images\n",
      "Processed 18000 images\n",
      "Processed 18100 images\n",
      "Processed 18200 images\n",
      "Processed 18300 images\n",
      "Processed 18400 images\n",
      "Processed 18500 images\n",
      "Processed 18600 images\n",
      "Processed 18700 images\n",
      "Processed 18800 images\n",
      "Processed 18900 images\n",
      "Processed 19000 images\n",
      "Processed 19100 images\n",
      "Processed 19200 images\n",
      "Processed 19300 images\n",
      "Processed 19400 images\n",
      "Processed 19500 images\n",
      "Processed 19600 images\n",
      "Processed 19700 images\n",
      "Processed 19800 images\n",
      "Processed 19900 images\n",
      "Processed 20000 images\n",
      "Processed 20100 images\n",
      "Processed 20200 images\n",
      "Processed 20300 images\n",
      "Processed 20400 images\n",
      "Processed 20500 images\n",
      "Processed 20600 images\n",
      "Processed 20700 images\n",
      "Processed 20800 images\n",
      "Processed 20900 images\n",
      "Processed 21000 images\n",
      "Processed 21100 images\n",
      "Processed 21200 images\n",
      "Processed 21300 images\n",
      "Processed 21400 images\n",
      "Processed 21500 images\n",
      "Processed 21600 images\n",
      "Processed 21700 images\n",
      "Processed 21800 images\n",
      "Processed 21900 images\n",
      "Processed 22000 images\n",
      "Processed 22100 images\n",
      "Processed 22200 images\n",
      "Processed 22300 images\n",
      "Processed 22400 images\n",
      "Processed 22500 images\n",
      "Processed 22600 images\n",
      "Processed 22700 images\n",
      "Processed 22800 images\n",
      "Processed 22900 images\n",
      "Processed 23000 images\n",
      "Processed 23100 images\n",
      "Processed 23200 images\n",
      "Processed 23300 images\n",
      "Processed 23400 images\n",
      "Processed 23500 images\n",
      "Processed 23600 images\n",
      "Processed 23700 images\n",
      "Processed 23800 images\n",
      "Processed 23900 images\n",
      "Processed 24000 images\n",
      "Processed 24100 images\n",
      "Processed 24200 images\n",
      "Processed 24300 images\n",
      "Processed 24400 images\n",
      "Processed 24500 images\n",
      "Processed 24600 images\n",
      "Processed 24700 images\n",
      "Processed 24800 images\n",
      "Processed 24900 images\n",
      "Processed 25000 images\n",
      "Processed 25100 images\n",
      "Processed 25200 images\n",
      "Processed 25300 images\n",
      "Processed 25400 images\n",
      "Processed 25500 images\n",
      "Processed 25600 images\n",
      "Processed 25700 images\n",
      "Processed 25800 images\n",
      "Processed 25900 images\n",
      "Processed 26000 images\n",
      "Processed 26100 images\n",
      "Processed 26200 images\n",
      "Processed 26300 images\n",
      "Processed 26400 images\n",
      "Processed 26500 images\n",
      "Processed 26600 images\n",
      "Processed 26700 images\n",
      "Processed 26800 images\n",
      "Processed 26900 images\n",
      "Processed 27000 images\n",
      "Processed 27100 images\n",
      "Processed 27200 images\n",
      "Processed 27300 images\n",
      "Processed 27400 images\n",
      "Processed 27500 images\n",
      "Processed 27600 images\n",
      "Processed 27700 images\n",
      "Processed 27800 images\n",
      "Processed 27900 images\n",
      "Processed 28000 images\n",
      "Processed 28100 images\n",
      "Processed 28200 images\n",
      "Processed 28300 images\n",
      "Processed 28400 images\n",
      "Processed 28500 images\n",
      "Processed 28600 images\n",
      "Processed 28700 images\n",
      "Processed 28800 images\n",
      "Processed 28900 images\n",
      "Processed 29000 images\n",
      "Processed 29100 images\n",
      "Processed 29200 images\n",
      "Processed 29300 images\n",
      "Processed 29400 images\n",
      "Processed 29500 images\n",
      "Processed 29600 images\n",
      "Processed 29700 images\n",
      "Processed 29800 images\n",
      "Processed 29900 images\n",
      "Processed 30000 images\n",
      "Processed 30100 images\n",
      "Processed 30200 images\n",
      "Processed 30300 images\n",
      "Processed 30400 images\n",
      "Processed 30500 images\n",
      "Processed 30600 images\n",
      "Processed 30700 images\n",
      "Processed 30800 images\n",
      "Processed 30900 images\n",
      "Processed 31000 images\n",
      "Processed 31100 images\n",
      "Processed 31200 images\n",
      "Processed 31300 images\n",
      "Processed 31400 images\n",
      "Processed 31500 images\n",
      "Processed 31600 images\n",
      "Processed 31700 images\n",
      "Processed 31800 images\n",
      "Processed 31900 images\n",
      "Processed 32000 images\n",
      "Processed 32100 images\n",
      "Processed 32200 images\n",
      "Processed 32300 images\n",
      "Processed 32400 images\n",
      "Processed 32500 images\n",
      "Processed 32600 images\n",
      "Processed 32700 images\n",
      "Processed 32800 images\n",
      "Processed 32900 images\n",
      "Processed 33000 images\n",
      "Processed 33100 images\n",
      "Processed 33200 images\n",
      "Processed 33300 images\n",
      "Processed 33400 images\n",
      "Processed 33500 images\n",
      "Processed 33600 images\n",
      "Processed 33700 images\n",
      "Processed 33800 images\n",
      "Processed 33900 images\n",
      "Processed 34000 images\n",
      "Processed 34100 images\n",
      "Processed 34200 images\n",
      "Processed 34300 images\n",
      "Processed 34400 images\n",
      "Processed 34500 images\n",
      "Processed 34600 images\n",
      "Processed 34700 images\n",
      "Processed 34800 images\n",
      "Processed 34900 images\n",
      "Processed 35000 images\n",
      "Processed 35100 images\n",
      "Processed 35200 images\n",
      "Processed 35300 images\n",
      "Processed 35400 images\n",
      "Processed 35500 images\n",
      "Processed 35600 images\n",
      "Processed 35700 images\n",
      "Processed 35800 images\n"
     ]
    }
   ],
   "source": [
    "#dataset_path=\"C:\\\\Users\\Fatah\\Downloads\\IA Doc\\Learn 3(need to update it from drive)\\\\fer2013.csv\"\n",
    "#dataset_path=\"/content/gdrive/My Drive/Google Colab/Emotions Recognizer/fer2013.csv\"\n",
    "\n",
    "dataset_path=os.getcwd()+\"\\\\fer2013.csv\"\n",
    "\n",
    "\n",
    "w, h = 48, 48\n",
    "image = np.zeros((h, w), dtype=np.uint8)\n",
    "id = 1\n",
    "\n",
    "\n",
    "with open(dataset_path, 'r') as csvfile:\n",
    "    datareader = csv.reader(csvfile, delimiter =',')\n",
    "    headers = next(datareader)\n",
    "    print (headers) \n",
    "    for row in datareader:  \n",
    "        emotion = row[0]\n",
    "        pixels = list(map(int, row[1].split()))\n",
    "        usage = row[2]\n",
    "   \n",
    "        pixels_array = np.asarray(pixels)\n",
    "\n",
    "        image = pixels_array.reshape(w, h)\n",
    "        image_folder = os.path.join(os.getcwd()+\"/dataset/fer2013/\", emotion)\n",
    "        if not os.path.exists(image_folder):\n",
    "            os.makedirs(image_folder)\n",
    "        image_file =  os.path.join(image_folder , str(id) + '.jpg')\n",
    "        scipy.misc.imsave(image_file, image)\n",
    "        id += 1 \n",
    "        if id % 100 == 0:\n",
    "            print('Processed {} images'.format(id))  "
   ]
  },
  {
   "cell_type": "markdown",
   "metadata": {},
   "source": [
    "#### creating landmarks images"
   ]
  },
  {
   "cell_type": "code",
   "execution_count": null,
   "metadata": {},
   "outputs": [],
   "source": [
    "import cv2\n",
    "from cv2 import *\n",
    "from imutils import face_utils\n",
    "import numpy as np\n",
    "import argparse\n",
    "import imutils\n",
    "import dlib\n",
    "import os\n",
    "import glob\n",
    "from os.path import basename, splitext\n",
    "\n",
    "\n",
    "# initialize dlib's face detector (HOG-based) and then create\n",
    "# the facial landmark predictor\n",
    "detector = dlib.get_frontal_face_detector()\n",
    "predictor = dlib.shape_predictor('shape_predictor_68_face_landmarks.dat')\n",
    "\n",
    "# load the input image, resize it, and convert it to grayscale\n",
    "\n",
    "\n",
    "data_path = os.getcwd()+\"/dataset/fer2013\"\n",
    "data_dir_list = os.listdir(data_path)\n",
    "\n",
    "print(data_dir_list)\n",
    "\n",
    "for dataset in data_dir_list:\n",
    "    print(dataset)\n",
    "    img_list=os.listdir(data_path+'/'+ dataset+'/')\n",
    "    \n",
    "    #print ('Loaded the images of dataset-'+'{}\\n'.format(dataset), img_list)\n",
    "    \n",
    "    \n",
    "    for img in img_list:\n",
    "    \n",
    "        #image = cv2.imread('img1.jpg')\n",
    "        image= cv2.imread(data_path+\"/\"+dataset+\"/\"+img)\n",
    "\n",
    "        image = imutils.resize(image, width=500)\n",
    "        gray = cv2.cvtColor(image, cv2.COLOR_BGR2GRAY)\n",
    "\n",
    "        # detect faces in the grayscale image\n",
    "        rects = detector(gray, 1)\n",
    "        \n",
    "        # clone the original image so we can draw on it, and save the face parts without the draws\n",
    "        clone = image.copy()\n",
    "\n",
    "        # loop over the face detections\n",
    "        for (i, rect) in enumerate(rects):\n",
    "            # determine the facial landmarks for the face region, then\n",
    "            # convert the facial landmark (x, y)-coordinates to a NumPy\n",
    "            # array\n",
    "            shape = predictor(gray, rect)\n",
    "            shape = face_utils.shape_to_np(shape)\n",
    "\n",
    "            # convert dlib's rectangle to a OpenCV-style bounding box\n",
    "            # [i.e., (x, y, w, h)], then draw the face bounding box\n",
    "            (x, y, w, h) = face_utils.rect_to_bb(rect)\n",
    "            \n",
    "            cv2.rectangle(clone, (x, y), (x + w, y + h), (0, 255, 0), 2)\n",
    "\n",
    "            # show the face number\n",
    "            cv2.putText(image, \"Face #{}\".format(i + 1), (x - 10, y - 10),\n",
    "                cv2.FONT_HERSHEY_SIMPLEX, 0.5, (0, 255, 0), 2)\n",
    "\n",
    "            # loop over the face parts individually\n",
    "            for (name, (k, j)) in face_utils.FACIAL_LANDMARKS_IDXS.items():\n",
    "                # display the name of the face part on the image\n",
    "                cv2.putText(clone, name, (10, 30), cv2.FONT_HERSHEY_SIMPLEX,\n",
    "                    0.7, (0, 0, 255), 2)\n",
    "\n",
    "                # loop over the subset of facial landmarks, drawing the\n",
    "                # specific face part\n",
    "                for (x, y) in shape[k:j]:\n",
    "                    cv2.circle(clone, (x, y), 1, (0, 0, 255), -1)\n",
    "\n",
    "                # extract the ROI of the face region as a separate image\n",
    "                (x, y, w, h) = cv2.boundingRect(np.array([shape[k:j]]))\n",
    "                roi = image[y:y + h, x:x + w]\n",
    "                \n",
    "                #try:\n",
    "                #    roi = imutils.resize(roi, width=250, inter=cv2.INTER_CUBIC)\n",
    "                #except Exception as e:\n",
    "                #    print(str(e))\n",
    "\n",
    "                # show the particular face part\n",
    "                if not os.path.exists(\"landmarks/\"):\n",
    "                        os.makedirs(\"landmarks/\")\n",
    "                \n",
    "                if not os.path.exists(\"landmarks/\"+dataset+\"/\"+name+\"/\"):\n",
    "                        os.makedirs(\"landmarks/\"+dataset+\"/\"+name+\"/\")\n",
    "                  \n",
    "                #name because of multiple faces in one image\n",
    "                img_name=str(i)+img        \n",
    "                cv2.imwrite(\"landmarks/\" +dataset+\"/\"+ name+\"/\"+img_name , roi)\n",
    "\n",
    "                \n",
    "        # show the output image with the face detections + facial landmarks\n",
    "        #cv2.imshow(\"Output\", clone)\n",
    "        #cv2.waitKey(0)"
   ]
  },
  {
   "cell_type": "markdown",
   "metadata": {},
   "source": [
    "#### model"
   ]
  },
  {
   "cell_type": "code",
   "execution_count": null,
   "metadata": {},
   "outputs": [],
   "source": []
  },
  {
   "cell_type": "markdown",
   "metadata": {
    "colab": {},
    "colab_type": "code",
    "id": "ZUfvoZ7TH8LV"
   },
   "source": [
    "## Training on dataset avec les pointiés direct sur les photos"
   ]
  },
  {
   "cell_type": "markdown",
   "metadata": {
    "colab_type": "text",
    "id": "CDtgBOx-Bk4l"
   },
   "source": [
    "## Real time Emotions"
   ]
  },
  {
   "cell_type": "code",
   "execution_count": 0,
   "metadata": {
    "colab": {},
    "colab_type": "code",
    "id": "Wi0yR5jNCGdz"
   },
   "outputs": [],
   "source": []
  }
 ],
 "metadata": {
  "accelerator": "GPU",
  "colab": {
   "collapsed_sections": [],
   "name": "Emotion Recognizer - fer2013.ipynb",
   "provenance": [],
   "version": "0.3.2"
  },
  "kernelspec": {
   "display_name": "Python 3",
   "language": "python",
   "name": "python3"
  },
  "language_info": {
   "codemirror_mode": {
    "name": "ipython",
    "version": 3
   },
   "file_extension": ".py",
   "mimetype": "text/x-python",
   "name": "python",
   "nbconvert_exporter": "python",
   "pygments_lexer": "ipython3",
   "version": "3.6.8"
  }
 },
 "nbformat": 4,
 "nbformat_minor": 1
}
